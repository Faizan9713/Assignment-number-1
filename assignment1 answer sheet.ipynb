{
 "cells": [
  {
   "cell_type": "code",
   "execution_count": 1,
   "id": "cd1b03aa",
   "metadata": {},
   "outputs": [],
   "source": [
    "# 1. In the below elements which of them are values or an expression?\n",
    "# eg:- values can be integer or string and expressions will be\n",
    "# mathematical operators."
   ]
  },
  {
   "cell_type": "code",
   "execution_count": null,
   "id": "a1b0fca1",
   "metadata": {},
   "outputs": [],
   "source": [
    "values = 'hello',-87.8,6\n",
    "expression = *,/,-,+"
   ]
  },
  {
   "cell_type": "code",
   "execution_count": 2,
   "id": "83fdf7bc",
   "metadata": {},
   "outputs": [],
   "source": [
    "# 2. What is the difference between string and variable?\n",
    "answer = variable is a container that contains some information, \n",
    "we store data in it we give a name store data \n",
    "and whenever we need that information, \n",
    "we use the name of that container to access it\n",
    "  \n",
    "    \n",
    "string = Strings are the combination or collection of characters \n",
    "enclosed in quotes. \n",
    "Strings are one of the most used data types in \n",
    "any programming language because most of the real-world data such \n",
    "as name, address, \n",
    "or any sequence which contains alphanumeric characters are\n",
    "mostly of type String"
   ]
  },
  {
   "cell_type": "code",
   "execution_count": null,
   "id": "77f200cb",
   "metadata": {},
   "outputs": [],
   "source": [
    "#3. Describe three different data types\n",
    "answer \n",
    "1 = integers  = integers are the whole numbers  like 1 ,33, 8965,26959\n",
    "2 = character  = charecters are the alphabetic characters which is used in our coding and its each charecters representing \n",
    "                 using a small numeric code \n",
    "3 = boolean  = boolean are the giving logical values YES or NO , 0 or 1 , True or False "
   ]
  },
  {
   "cell_type": "code",
   "execution_count": null,
   "id": "e762429e",
   "metadata": {},
   "outputs": [],
   "source": [
    "#4.what is an expression made up of ? what do all expression do ?\n",
    "\n",
    "answer  = expression is like  a combinations of values and functions like numbers , a string , an istance of a class "
   ]
  },
  {
   "cell_type": "code",
   "execution_count": null,
   "id": "6c270017",
   "metadata": {},
   "outputs": [],
   "source": [
    "#5.what is difference between an expression and a statement ?\n",
    "answer = expression evalution of a statement does not changes state . evalution of expression is always produces or \n",
    "return a result values , evry expression can not be statemnet\n",
    "\n",
    "statement excution of a statment can be change state , execution of statement may or may not produce or \n",
    "display result values \n",
    ", it only dose whatever a statemnt says , or every statement cannot be expression"
   ]
  },
  {
   "cell_type": "code",
   "execution_count": null,
   "id": "ea3484b8",
   "metadata": {},
   "outputs": [],
   "source": [
    "#6.after running the following code , what does the variable bacon contain\n",
    "\n",
    "bacon = 20\n",
    "bacon+1\n",
    "\n",
    "answer = in this code bacon variable is set on 20 and bacon becomes 20 and bacon doesnot reassign its value  \n",
    "so bacon +1 is 20+1 which = 21"
   ]
  },
  {
   "cell_type": "code",
   "execution_count": 5,
   "id": "3b2a9876",
   "metadata": {},
   "outputs": [],
   "source": [
    "#7.what should the values of the following two terms be ?\n",
    "\n",
    "\"spam\" + \"spamspam\"\n",
    "\"spam\"*3\n",
    "\n",
    "answer  =  spam is  string values and this are string values and both expression is string so values comes out \n",
    " \"spamspamspam\""
   ]
  },
  {
   "cell_type": "code",
   "execution_count": null,
   "id": "0afe2d63",
   "metadata": {},
   "outputs": [],
   "source": [
    "#8.why is eggs a valid variable name while 100 is invalid?\n",
    " answer =   beccause the variable names cannot begin with a numbers"
   ]
  },
  {
   "cell_type": "code",
   "execution_count": null,
   "id": "31ac6cf3",
   "metadata": {},
   "outputs": [],
   "source": [
    "# 9. What three functions can be used to get the integer, floating-point number, or string\n",
    "version of a value?\n",
    "answer = the three functions are used as \n",
    "int()\n",
    "float()\n",
    "str()\n",
    " this are functions will evalute to the integers , floating point numbers ,\n",
    "    and string version of the value passed te them"
   ]
  },
  {
   "cell_type": "code",
   "execution_count": null,
   "id": "28cbb4ce",
   "metadata": {},
   "outputs": [],
   "source": [
    "#10. Why does this expression cause an error? How can you fix it?\n",
    " 'I have eaten' + 99 + 'burritos'\n",
    "\n",
    "answer = this expression cause error because 99 is an integer and others are string . and\n",
    "string is added only string values not integer values and the correct way is \n",
    "\"i have eaten \" + str(99) + \"burriots\"\n",
    "\n",
    "\n"
   ]
  },
  {
   "cell_type": "code",
   "execution_count": null,
   "id": "2f97edc3",
   "metadata": {},
   "outputs": [],
   "source": []
  }
 ],
 "metadata": {
  "kernelspec": {
   "display_name": "Python 3 (ipykernel)",
   "language": "python",
   "name": "python3"
  },
  "language_info": {
   "codemirror_mode": {
    "name": "ipython",
    "version": 3
   },
   "file_extension": ".py",
   "mimetype": "text/x-python",
   "name": "python",
   "nbconvert_exporter": "python",
   "pygments_lexer": "ipython3",
   "version": "3.9.12"
  }
 },
 "nbformat": 4,
 "nbformat_minor": 5
}
